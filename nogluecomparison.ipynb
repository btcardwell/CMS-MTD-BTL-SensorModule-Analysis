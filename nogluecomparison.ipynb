{
 "cells": [
  {
   "cell_type": "code",
   "execution_count": 2,
   "metadata": {},
   "outputs": [],
   "source": [
    "import numpy as np\n",
    "import matplotlib.pyplot as plt"
   ]
  },
  {
   "cell_type": "code",
   "execution_count": 3,
   "metadata": {},
   "outputs": [
    {
     "data": {
      "image/png": "[encoded data removed]",
      "text/plain": [
       "<matplotlib.figure.Figure at 0x7efcf0dc0b38>"
      ]
     },
     "metadata": {
      "needs_background": "light"
     },
     "output_type": "display_data"
    }
   ],
   "source": [
    "#L6+S1\n",
    "L6S1=np.array([[59.162,59.151,59.146,59.138,59.095],             \n",
    "             [59.142,59.150,59.143,59.147,59.098]])\n",
    "L6 =np.array([[56.838,56.849,56.829,56.816,56.782],\n",
    "              [56.831,56.842,56.842,56.824,56.783],\n",
    "              [56.830,56.835,56.832,56.825,56.795],\n",
    "              [56.831,56.849,56.835,56.828,56.788]])\n",
    "S1=np.array([[2.310,2.310,2.309,2.308,2.308],\n",
    "             [2.305,2.306,2.307,2.306,2.309]])\n",
    "\n",
    "X=np.array([\"A\", \"B\", \"C\", \"D\", \"E\"])\n",
    "Y=np.mean(L6S1, axis =0) - np.mean(L6, axis=0)- np.mean(S1, axis=0)\n",
    "plt.plot(X, Y*1000, )\n",
    "plt.ylim(-20, 100)\n",
    "plt.ylabel(\"Glue thickness with no glue for L6+S1 \")\n",
    "plt.savefig(\"l6s1noglue.png\")\n"
   ]
  },
  {
   "cell_type": "code",
   "execution_count": 4,
   "metadata": {},
   "outputs": [],
   "source": [
    "#L4+S5\n",
    "L4S5=np.array([[59.130,59.168,59.164,59.147,59.093],\n",
    "               [59.128,59.159,59.158,59.143,59.085],\n",
    "               [59.130,59.160,59.161,59.143,59.090]])\n",
    "L4=np.array([[56.808,56.830,56.825,56.796,56.747],\n",
    "             [56.810,56.820,56.827,56.795,56.749]])\n",
    "S5=np.array([[2.310,2.309,2.311,2.309,2.310],\n",
    "             [2.307,2.308,2.307,2.309,2.308]])\n",
    "plt.plot(X, (np.mean(L4S5, axis=0)-np.mean(L4, axis=0)-np.mean(S5, axis=0))*1000)\n",
    "plt.ylim(-20, 100)\n",
    "plt.ylabel(\"Glue thickness with no glue for L6+S1 \")\n",
    "plt.savefig(\"l4s5noglue.png\")\n",
    "\n"
   ]
  },
  {
   "cell_type": "code",
   "execution_count": null,
   "metadata": {},
   "outputs": [],
   "source": []
  },
  {
   "cell_type": "code",
   "execution_count": null,
   "metadata": {},
   "outputs": [],
   "source": []
  }
 ],
 "metadata": {
  "kernelspec": {
   "display_name": "Python 3",
   "language": "python",
   "name": "python3"
  },
  "language_info": {
   "codemirror_mode": {
    "name": "ipython",
    "version": 3
   },
   "file_extension": ".py",
   "mimetype": "text/x-python",
   "name": "python",
   "nbconvert_exporter": "python",
   "pygments_lexer": "ipython3",
   "version": "3.6.9"
  }
 },
 "nbformat": 4,
 "nbformat_minor": 4
}
